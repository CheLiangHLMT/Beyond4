{
 "cells": [
  {
   "cell_type": "code",
   "execution_count": 1,
   "metadata": {
    "scrolled": true
   },
   "outputs": [
    {
     "name": "stdout",
     "output_type": "stream",
     "text": [
      "Out of Stock\n"
     ]
    }
   ],
   "source": [
    "import cloudscraper\n",
    "from bs4 import BeautifulSoup\n",
    "import requests\n",
    "import re\n",
    "import time\n",
    "\n",
    "url = \"https://www.lazada.com.my/products/graphic-card-zotac-gaming-nvidia-geforce-rtx-3080-amp-holo-i1734238850-s6652768621.html?spm=a2o4k.seller.list.1.20a37a79z2Jxdb&mp=1\"\n",
    "\n",
    "scraper = cloudscraper.create_scraper()\n",
    "\n",
    "text = scraper.get(url).text\n",
    "\n",
    "soup = BeautifulSoup(text,'html5lib')\n",
    "\n",
    "start_time = time.time()\n",
    "\n",
    "scraped_text = soup.get_text()\n",
    "\n",
    "seconds = 0\n",
    "\n",
    "keyword = bool(re.findall(\"Out of stock\", scraped_text))\n",
    "\n",
    "def re_text(scraped_text):\n",
    "    if keyword == True:\n",
    "        print(\"Out of Stock\")\n",
    "    else:\n",
    "        print(\"Stock Available\")\n",
    "\n",
    "re_text(scraped_text)\n"
   ]
  },
  {
   "cell_type": "code",
   "execution_count": null,
   "metadata": {},
   "outputs": [],
   "source": []
  }
 ],
 "metadata": {
  "kernelspec": {
   "display_name": "Python 3",
   "language": "python",
   "name": "python3"
  },
  "language_info": {
   "codemirror_mode": {
    "name": "ipython",
    "version": 3
   },
   "file_extension": ".py",
   "mimetype": "text/x-python",
   "name": "python",
   "nbconvert_exporter": "python",
   "pygments_lexer": "ipython3",
   "version": "3.8.5"
  }
 },
 "nbformat": 4,
 "nbformat_minor": 4
}
