{
 "cells": [
  {
   "cell_type": "code",
   "execution_count": null,
   "metadata": {
    "scrolled": true
   },
   "outputs": [],
   "source": [
    "pip install cloudscraper"
   ]
  },
  {
   "cell_type": "code",
   "execution_count": null,
   "metadata": {},
   "outputs": [],
   "source": [
    "pip install html5lib"
   ]
  },
  {
   "cell_type": "code",
   "execution_count": null,
   "metadata": {},
   "outputs": [],
   "source": [
    "pip install bs4"
   ]
  },
  {
   "cell_type": "code",
   "execution_count": null,
   "metadata": {},
   "outputs": [],
   "source": [
    "import cloudscraper\n",
    "from bs4 import BeautifulSoup\n",
    "import requests\n",
    "import re\n",
    "import time\n",
    "\n",
    "url = \"https://www.lazada.com.my/products/sanda-military-mens-watch-top-brand-luxury-waterproof-sport-wristwatch-fashion-casual-quartz-clock-male-digital-watch-i757204866-s1704920481.html?spm=a2o4k.home.flashSale.3.18892e7eyY5sSy&search=1&mp=1&c=fs&clickTrackInfo=%7B%22rs%22%3A%220.1109459403905447%22%2C%22prior_score%22%3A%220%22%2C%22submission_discount%22%3A%2283%25%22%2C%22type%22%3A%22entrance%22%2C%22prior_type%22%3A%22racing%22%2C%22userid%22%3A%22%22%2C%22sca%22%3A%220%22%2C%22hourtonow%22%3A%2212%22%2C%22abid%22%3A%22178638%22%2C%22itemid%22%3A%22757204866_1_racing_0.1109459403905447_0.1109459403905447%22%2C%22pvid%22%3A%22a4a0c8cb-e0f0-4c62-985c-0406c57fd0e4%22%2C%22pos%22%3A%221%22%2C%22rms%22%3A%220.0%22%2C%22c2i%22%3A%220.0%22%2C%22scm%22%3A%221007.17760.178638.%22%2C%22ss%22%3A%220.1109459403905447%22%2C%22i2i%22%3A%220.0%22%2C%22ms%22%3A%220.1109459403905447%22%2C%22itr%22%3A%220.17666666666666667%22%2C%22mt%22%3A%22racing%22%2C%22its%22%3A%22300%22%2C%22promotion_price%22%3A%2219.90%22%2C%22anonid%22%3A%22a09fead2-dd63-477d-ba94-2d169390bc1e%22%2C%22FinalScore%22%3A%220.0%22%2C%22isc%22%3A%2253%22%2C%22iss2%22%3A%220.5795888540031927%22%2C%22data_type%22%3A%22flashsale%22%2C%22iss1%22%3A%220.05447070914696814%22%2C%22config%22%3A%22%22%2C%22HP_score%22%3A%220.0%22%2C%22channel_id%22%3A%220000%22%7D&scm=1007.17760.178638.0\"\n",
    "\n",
    "scraper = cloudscraper.create_scraper()\n",
    "\n",
    "text = scraper.get(url).text\n",
    "\n",
    "soup = BeautifulSoup(text,'html5lib')\n",
    "\n",
    "start_time = time.time()\n",
    "\n",
    "scraped_text = soup.get_text()\n",
    "\n",
    "seconds = 0\n",
    "\n",
    "keyword = bool(re.findall(\"Out of stock\", scraped_text))\n",
    "\n",
    "def re_text(scraped_text):\n",
    "    if keyword == True:\n",
    "        print(\"Out of Stock\")\n",
    "    else:\n",
    "        print(\"Stock Available\")\n",
    "\n",
    "re_text(scraped_text)"
   ]
  },
  {
   "cell_type": "code",
   "execution_count": null,
   "metadata": {},
   "outputs": [],
   "source": [
    "print(scraped_text)"
   ]
  },
  {
   "cell_type": "code",
   "execution_count": null,
   "metadata": {},
   "outputs": [],
   "source": []
  }
 ],
 "metadata": {
  "kernelspec": {
   "display_name": "Python 3",
   "language": "python",
   "name": "python3"
  },
  "language_info": {
   "codemirror_mode": {
    "name": "ipython",
    "version": 3
   },
   "file_extension": ".py",
   "mimetype": "text/x-python",
   "name": "python",
   "nbconvert_exporter": "python",
   "pygments_lexer": "ipython3",
   "version": "3.8.5"
  }
 },
 "nbformat": 4,
 "nbformat_minor": 4
}
